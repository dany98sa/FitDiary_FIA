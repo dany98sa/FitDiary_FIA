{
  "nbformat": 4,
  "nbformat_minor": 0,
  "metadata": {
    "colab": {
      "name": "Copia di Untitled0.ipynb",
      "provenance": [],
      "collapsed_sections": [],
      "include_colab_link": true
    },
    "kernelspec": {
      "name": "python3",
      "display_name": "Python 3"
    },
    "language_info": {
      "name": "python"
    }
  },
  "cells": [
    {
      "cell_type": "markdown",
      "metadata": {
        "id": "view-in-github",
        "colab_type": "text"
      },
      "source": [
        "<a href=\"https://colab.research.google.com/github/rebeccadimatteo/FitDiary_FIA/blob/main/regressioneLineare.ipynb\" target=\"_parent\"><img src=\"https://colab.research.google.com/assets/colab-badge.svg\" alt=\"Open In Colab\"/></a>"
      ]
    },
    {
      "cell_type": "markdown",
      "source": [
        "# Regressione lineare multipla"
      ],
      "metadata": {
        "id": "wa9-aX1TJ6H5"
      }
    },
    {
      "cell_type": "markdown",
      "source": [
        "## Ottenimento del dataset"
      ],
      "metadata": {
        "id": "gDFIyIi7CKVA"
      }
    },
    {
      "cell_type": "code",
      "execution_count": 17,
      "metadata": {
        "id": "Zzlg_2rERuaN",
        "colab": {
          "base_uri": "https://localhost:8080/",
          "height": 0
        },
        "outputId": "6fef3551-9f11-48d8-8ce9-8829dbbb5a67"
      },
      "outputs": [
        {
          "output_type": "execute_result",
          "data": {
            "text/html": [
              "\n",
              "  <div id=\"df-814f163b-fc18-4816-b698-17341660d938\">\n",
              "    <div class=\"colab-df-container\">\n",
              "      <div>\n",
              "<style scoped>\n",
              "    .dataframe tbody tr th:only-of-type {\n",
              "        vertical-align: middle;\n",
              "    }\n",
              "\n",
              "    .dataframe tbody tr th {\n",
              "        vertical-align: top;\n",
              "    }\n",
              "\n",
              "    .dataframe thead th {\n",
              "        text-align: right;\n",
              "    }\n",
              "</style>\n",
              "<table border=\"1\" class=\"dataframe\">\n",
              "  <thead>\n",
              "    <tr style=\"text-align: right;\">\n",
              "      <th></th>\n",
              "      <th>id</th>\n",
              "      <th>sesso</th>\n",
              "      <th>eta</th>\n",
              "      <th>mese</th>\n",
              "      <th>peso</th>\n",
              "      <th>kcal</th>\n",
              "      <th>pesoStimato</th>\n",
              "    </tr>\n",
              "  </thead>\n",
              "  <tbody>\n",
              "    <tr>\n",
              "      <th>0</th>\n",
              "      <td>1</td>\n",
              "      <td>0</td>\n",
              "      <td>46</td>\n",
              "      <td>1</td>\n",
              "      <td>67.00000</td>\n",
              "      <td>2061</td>\n",
              "      <td>-0.438622</td>\n",
              "    </tr>\n",
              "    <tr>\n",
              "      <th>1</th>\n",
              "      <td>1</td>\n",
              "      <td>0</td>\n",
              "      <td>46</td>\n",
              "      <td>2</td>\n",
              "      <td>67.43862</td>\n",
              "      <td>1537</td>\n",
              "      <td>-1.277814</td>\n",
              "    </tr>\n",
              "    <tr>\n",
              "      <th>2</th>\n",
              "      <td>1</td>\n",
              "      <td>0</td>\n",
              "      <td>46</td>\n",
              "      <td>2</td>\n",
              "      <td>68.71644</td>\n",
              "      <td>3173</td>\n",
              "      <td>0.399622</td>\n",
              "    </tr>\n",
              "    <tr>\n",
              "      <th>3</th>\n",
              "      <td>1</td>\n",
              "      <td>0</td>\n",
              "      <td>46</td>\n",
              "      <td>2</td>\n",
              "      <td>68.31682</td>\n",
              "      <td>2684</td>\n",
              "      <td>0.281297</td>\n",
              "    </tr>\n",
              "    <tr>\n",
              "      <th>4</th>\n",
              "      <td>1</td>\n",
              "      <td>0</td>\n",
              "      <td>46</td>\n",
              "      <td>2</td>\n",
              "      <td>68.03552</td>\n",
              "      <td>1568</td>\n",
              "      <td>-1.225765</td>\n",
              "    </tr>\n",
              "    <tr>\n",
              "      <th>5</th>\n",
              "      <td>1</td>\n",
              "      <td>0</td>\n",
              "      <td>46</td>\n",
              "      <td>2</td>\n",
              "      <td>69.26129</td>\n",
              "      <td>2064</td>\n",
              "      <td>-0.937984</td>\n",
              "    </tr>\n",
              "    <tr>\n",
              "      <th>6</th>\n",
              "      <td>1</td>\n",
              "      <td>0</td>\n",
              "      <td>46</td>\n",
              "      <td>2</td>\n",
              "      <td>70.19928</td>\n",
              "      <td>1768</td>\n",
              "      <td>-1.347285</td>\n",
              "    </tr>\n",
              "    <tr>\n",
              "      <th>7</th>\n",
              "      <td>1</td>\n",
              "      <td>0</td>\n",
              "      <td>46</td>\n",
              "      <td>2</td>\n",
              "      <td>71.54656</td>\n",
              "      <td>1679</td>\n",
              "      <td>-1.076831</td>\n",
              "    </tr>\n",
              "    <tr>\n",
              "      <th>8</th>\n",
              "      <td>1</td>\n",
              "      <td>0</td>\n",
              "      <td>46</td>\n",
              "      <td>2</td>\n",
              "      <td>72.62339</td>\n",
              "      <td>2262</td>\n",
              "      <td>-0.448276</td>\n",
              "    </tr>\n",
              "    <tr>\n",
              "      <th>9</th>\n",
              "      <td>1</td>\n",
              "      <td>0</td>\n",
              "      <td>46</td>\n",
              "      <td>2</td>\n",
              "      <td>73.07166</td>\n",
              "      <td>1695</td>\n",
              "      <td>-1.614159</td>\n",
              "    </tr>\n",
              "  </tbody>\n",
              "</table>\n",
              "</div>\n",
              "      <button class=\"colab-df-convert\" onclick=\"convertToInteractive('df-814f163b-fc18-4816-b698-17341660d938')\"\n",
              "              title=\"Convert this dataframe to an interactive table.\"\n",
              "              style=\"display:none;\">\n",
              "        \n",
              "  <svg xmlns=\"http://www.w3.org/2000/svg\" height=\"24px\"viewBox=\"0 0 24 24\"\n",
              "       width=\"24px\">\n",
              "    <path d=\"M0 0h24v24H0V0z\" fill=\"none\"/>\n",
              "    <path d=\"M18.56 5.44l.94 2.06.94-2.06 2.06-.94-2.06-.94-.94-2.06-.94 2.06-2.06.94zm-11 1L8.5 8.5l.94-2.06 2.06-.94-2.06-.94L8.5 2.5l-.94 2.06-2.06.94zm10 10l.94 2.06.94-2.06 2.06-.94-2.06-.94-.94-2.06-.94 2.06-2.06.94z\"/><path d=\"M17.41 7.96l-1.37-1.37c-.4-.4-.92-.59-1.43-.59-.52 0-1.04.2-1.43.59L10.3 9.45l-7.72 7.72c-.78.78-.78 2.05 0 2.83L4 21.41c.39.39.9.59 1.41.59.51 0 1.02-.2 1.41-.59l7.78-7.78 2.81-2.81c.8-.78.8-2.07 0-2.86zM5.41 20L4 18.59l7.72-7.72 1.47 1.35L5.41 20z\"/>\n",
              "  </svg>\n",
              "      </button>\n",
              "      \n",
              "  <style>\n",
              "    .colab-df-container {\n",
              "      display:flex;\n",
              "      flex-wrap:wrap;\n",
              "      gap: 12px;\n",
              "    }\n",
              "\n",
              "    .colab-df-convert {\n",
              "      background-color: #E8F0FE;\n",
              "      border: none;\n",
              "      border-radius: 50%;\n",
              "      cursor: pointer;\n",
              "      display: none;\n",
              "      fill: #1967D2;\n",
              "      height: 32px;\n",
              "      padding: 0 0 0 0;\n",
              "      width: 32px;\n",
              "    }\n",
              "\n",
              "    .colab-df-convert:hover {\n",
              "      background-color: #E2EBFA;\n",
              "      box-shadow: 0px 1px 2px rgba(60, 64, 67, 0.3), 0px 1px 3px 1px rgba(60, 64, 67, 0.15);\n",
              "      fill: #174EA6;\n",
              "    }\n",
              "\n",
              "    [theme=dark] .colab-df-convert {\n",
              "      background-color: #3B4455;\n",
              "      fill: #D2E3FC;\n",
              "    }\n",
              "\n",
              "    [theme=dark] .colab-df-convert:hover {\n",
              "      background-color: #434B5C;\n",
              "      box-shadow: 0px 1px 3px 1px rgba(0, 0, 0, 0.15);\n",
              "      filter: drop-shadow(0px 1px 2px rgba(0, 0, 0, 0.3));\n",
              "      fill: #FFFFFF;\n",
              "    }\n",
              "  </style>\n",
              "\n",
              "      <script>\n",
              "        const buttonEl =\n",
              "          document.querySelector('#df-814f163b-fc18-4816-b698-17341660d938 button.colab-df-convert');\n",
              "        buttonEl.style.display =\n",
              "          google.colab.kernel.accessAllowed ? 'block' : 'none';\n",
              "\n",
              "        async function convertToInteractive(key) {\n",
              "          const element = document.querySelector('#df-814f163b-fc18-4816-b698-17341660d938');\n",
              "          const dataTable =\n",
              "            await google.colab.kernel.invokeFunction('convertToInteractive',\n",
              "                                                     [key], {});\n",
              "          if (!dataTable) return;\n",
              "\n",
              "          const docLinkHtml = 'Like what you see? Visit the ' +\n",
              "            '<a target=\"_blank\" href=https://colab.research.google.com/notebooks/data_table.ipynb>data table notebook</a>'\n",
              "            + ' to learn more about interactive tables.';\n",
              "          element.innerHTML = '';\n",
              "          dataTable['output_type'] = 'display_data';\n",
              "          await google.colab.output.renderOutput(dataTable, element);\n",
              "          const docLink = document.createElement('div');\n",
              "          docLink.innerHTML = docLinkHtml;\n",
              "          element.appendChild(docLink);\n",
              "        }\n",
              "      </script>\n",
              "    </div>\n",
              "  </div>\n",
              "  "
            ],
            "text/plain": [
              "   id  sesso  eta  mese      peso  kcal  pesoStimato\n",
              "0   1      0   46     1  67.00000  2061    -0.438622\n",
              "1   1      0   46     2  67.43862  1537    -1.277814\n",
              "2   1      0   46     2  68.71644  3173     0.399622\n",
              "3   1      0   46     2  68.31682  2684     0.281297\n",
              "4   1      0   46     2  68.03552  1568    -1.225765\n",
              "5   1      0   46     2  69.26129  2064    -0.937984\n",
              "6   1      0   46     2  70.19928  1768    -1.347285\n",
              "7   1      0   46     2  71.54656  1679    -1.076831\n",
              "8   1      0   46     2  72.62339  2262    -0.448276\n",
              "9   1      0   46     2  73.07166  1695    -1.614159"
            ]
          },
          "metadata": {},
          "execution_count": 17
        }
      ],
      "source": [
        "import pandas as pd\n",
        "import os\n",
        "from six.moves import urllib\n",
        "\n",
        "DOWNLOAD_ROOT=\"https://raw.githubusercontent.com/rebeccadimatteo/FitDiary_FIA/master/dataset.csv\"\n",
        "\n",
        "def fetch_file_data1(file_url1=DOWNLOAD_ROOT, file_path1=\"file\"):\n",
        "\n",
        "    os.makedirs(file_path1, exist_ok=True)\n",
        "\n",
        "    csv_path1 = os.path.join(file_path1, \"dataset.csv\")\n",
        "\n",
        "    urllib.request.urlretrieve(file_url1, csv_path1)\n",
        "\n",
        "fetch_file_data1()\n",
        "\n",
        "df=pd.read_csv(\"file/dataset.csv\")\n",
        "df.head(10)"
      ]
    },
    {
      "cell_type": "markdown",
      "source": [
        "## 1)DataCleaning"
      ],
      "metadata": {
        "id": "-dntWE9dCYPs"
      }
    },
    {
      "cell_type": "markdown",
      "source": [
        "### Descrizione del dataset"
      ],
      "metadata": {
        "id": "mqIXZYL0C08D"
      }
    },
    {
      "cell_type": "code",
      "source": [
        "df.describe()"
      ],
      "metadata": {
        "colab": {
          "base_uri": "https://localhost:8080/",
          "height": 300
        },
        "id": "CryQgTtwWQWW",
        "outputId": "a414adf3-ff65-4fb6-d953-bb947c08b0a7"
      },
      "execution_count": 18,
      "outputs": [
        {
          "output_type": "execute_result",
          "data": {
            "text/html": [
              "\n",
              "  <div id=\"df-c95bfed3-bdd7-4106-aa72-602b92ee7e1f\">\n",
              "    <div class=\"colab-df-container\">\n",
              "      <div>\n",
              "<style scoped>\n",
              "    .dataframe tbody tr th:only-of-type {\n",
              "        vertical-align: middle;\n",
              "    }\n",
              "\n",
              "    .dataframe tbody tr th {\n",
              "        vertical-align: top;\n",
              "    }\n",
              "\n",
              "    .dataframe thead th {\n",
              "        text-align: right;\n",
              "    }\n",
              "</style>\n",
              "<table border=\"1\" class=\"dataframe\">\n",
              "  <thead>\n",
              "    <tr style=\"text-align: right;\">\n",
              "      <th></th>\n",
              "      <th>id</th>\n",
              "      <th>sesso</th>\n",
              "      <th>eta</th>\n",
              "      <th>mese</th>\n",
              "      <th>peso</th>\n",
              "      <th>kcal</th>\n",
              "      <th>pesoStimato</th>\n",
              "    </tr>\n",
              "  </thead>\n",
              "  <tbody>\n",
              "    <tr>\n",
              "      <th>count</th>\n",
              "      <td>36000.000</td>\n",
              "      <td>36000.000000</td>\n",
              "      <td>36000.000000</td>\n",
              "      <td>36000.000000</td>\n",
              "      <td>36000.000000</td>\n",
              "      <td>36000.000000</td>\n",
              "      <td>36000.000000</td>\n",
              "    </tr>\n",
              "    <tr>\n",
              "      <th>mean</th>\n",
              "      <td>500.500</td>\n",
              "      <td>0.481000</td>\n",
              "      <td>38.973000</td>\n",
              "      <td>1.972222</td>\n",
              "      <td>93.960686</td>\n",
              "      <td>2854.008639</td>\n",
              "      <td>-0.577729</td>\n",
              "    </tr>\n",
              "    <tr>\n",
              "      <th>std</th>\n",
              "      <td>288.679</td>\n",
              "      <td>0.499646</td>\n",
              "      <td>12.283911</td>\n",
              "      <td>0.164338</td>\n",
              "      <td>16.473259</td>\n",
              "      <td>739.296984</td>\n",
              "      <td>0.931751</td>\n",
              "    </tr>\n",
              "    <tr>\n",
              "      <th>min</th>\n",
              "      <td>1.000</td>\n",
              "      <td>0.000000</td>\n",
              "      <td>18.000000</td>\n",
              "      <td>1.000000</td>\n",
              "      <td>58.159405</td>\n",
              "      <td>1476.000000</td>\n",
              "      <td>-3.196676</td>\n",
              "    </tr>\n",
              "    <tr>\n",
              "      <th>25%</th>\n",
              "      <td>250.750</td>\n",
              "      <td>0.000000</td>\n",
              "      <td>28.000000</td>\n",
              "      <td>2.000000</td>\n",
              "      <td>80.624093</td>\n",
              "      <td>2294.000000</td>\n",
              "      <td>-1.165279</td>\n",
              "    </tr>\n",
              "    <tr>\n",
              "      <th>50%</th>\n",
              "      <td>500.500</td>\n",
              "      <td>0.000000</td>\n",
              "      <td>39.000000</td>\n",
              "      <td>2.000000</td>\n",
              "      <td>93.661348</td>\n",
              "      <td>2725.000000</td>\n",
              "      <td>-0.487886</td>\n",
              "    </tr>\n",
              "    <tr>\n",
              "      <th>75%</th>\n",
              "      <td>750.250</td>\n",
              "      <td>1.000000</td>\n",
              "      <td>49.000000</td>\n",
              "      <td>2.000000</td>\n",
              "      <td>106.744870</td>\n",
              "      <td>3285.250000</td>\n",
              "      <td>0.000000</td>\n",
              "    </tr>\n",
              "    <tr>\n",
              "      <th>max</th>\n",
              "      <td>1000.000</td>\n",
              "      <td>1.000000</td>\n",
              "      <td>59.000000</td>\n",
              "      <td>2.000000</td>\n",
              "      <td>143.593690</td>\n",
              "      <td>6117.000000</td>\n",
              "      <td>1.402835</td>\n",
              "    </tr>\n",
              "  </tbody>\n",
              "</table>\n",
              "</div>\n",
              "      <button class=\"colab-df-convert\" onclick=\"convertToInteractive('df-c95bfed3-bdd7-4106-aa72-602b92ee7e1f')\"\n",
              "              title=\"Convert this dataframe to an interactive table.\"\n",
              "              style=\"display:none;\">\n",
              "        \n",
              "  <svg xmlns=\"http://www.w3.org/2000/svg\" height=\"24px\"viewBox=\"0 0 24 24\"\n",
              "       width=\"24px\">\n",
              "    <path d=\"M0 0h24v24H0V0z\" fill=\"none\"/>\n",
              "    <path d=\"M18.56 5.44l.94 2.06.94-2.06 2.06-.94-2.06-.94-.94-2.06-.94 2.06-2.06.94zm-11 1L8.5 8.5l.94-2.06 2.06-.94-2.06-.94L8.5 2.5l-.94 2.06-2.06.94zm10 10l.94 2.06.94-2.06 2.06-.94-2.06-.94-.94-2.06-.94 2.06-2.06.94z\"/><path d=\"M17.41 7.96l-1.37-1.37c-.4-.4-.92-.59-1.43-.59-.52 0-1.04.2-1.43.59L10.3 9.45l-7.72 7.72c-.78.78-.78 2.05 0 2.83L4 21.41c.39.39.9.59 1.41.59.51 0 1.02-.2 1.41-.59l7.78-7.78 2.81-2.81c.8-.78.8-2.07 0-2.86zM5.41 20L4 18.59l7.72-7.72 1.47 1.35L5.41 20z\"/>\n",
              "  </svg>\n",
              "      </button>\n",
              "      \n",
              "  <style>\n",
              "    .colab-df-container {\n",
              "      display:flex;\n",
              "      flex-wrap:wrap;\n",
              "      gap: 12px;\n",
              "    }\n",
              "\n",
              "    .colab-df-convert {\n",
              "      background-color: #E8F0FE;\n",
              "      border: none;\n",
              "      border-radius: 50%;\n",
              "      cursor: pointer;\n",
              "      display: none;\n",
              "      fill: #1967D2;\n",
              "      height: 32px;\n",
              "      padding: 0 0 0 0;\n",
              "      width: 32px;\n",
              "    }\n",
              "\n",
              "    .colab-df-convert:hover {\n",
              "      background-color: #E2EBFA;\n",
              "      box-shadow: 0px 1px 2px rgba(60, 64, 67, 0.3), 0px 1px 3px 1px rgba(60, 64, 67, 0.15);\n",
              "      fill: #174EA6;\n",
              "    }\n",
              "\n",
              "    [theme=dark] .colab-df-convert {\n",
              "      background-color: #3B4455;\n",
              "      fill: #D2E3FC;\n",
              "    }\n",
              "\n",
              "    [theme=dark] .colab-df-convert:hover {\n",
              "      background-color: #434B5C;\n",
              "      box-shadow: 0px 1px 3px 1px rgba(0, 0, 0, 0.15);\n",
              "      filter: drop-shadow(0px 1px 2px rgba(0, 0, 0, 0.3));\n",
              "      fill: #FFFFFF;\n",
              "    }\n",
              "  </style>\n",
              "\n",
              "      <script>\n",
              "        const buttonEl =\n",
              "          document.querySelector('#df-c95bfed3-bdd7-4106-aa72-602b92ee7e1f button.colab-df-convert');\n",
              "        buttonEl.style.display =\n",
              "          google.colab.kernel.accessAllowed ? 'block' : 'none';\n",
              "\n",
              "        async function convertToInteractive(key) {\n",
              "          const element = document.querySelector('#df-c95bfed3-bdd7-4106-aa72-602b92ee7e1f');\n",
              "          const dataTable =\n",
              "            await google.colab.kernel.invokeFunction('convertToInteractive',\n",
              "                                                     [key], {});\n",
              "          if (!dataTable) return;\n",
              "\n",
              "          const docLinkHtml = 'Like what you see? Visit the ' +\n",
              "            '<a target=\"_blank\" href=https://colab.research.google.com/notebooks/data_table.ipynb>data table notebook</a>'\n",
              "            + ' to learn more about interactive tables.';\n",
              "          element.innerHTML = '';\n",
              "          dataTable['output_type'] = 'display_data';\n",
              "          await google.colab.output.renderOutput(dataTable, element);\n",
              "          const docLink = document.createElement('div');\n",
              "          docLink.innerHTML = docLinkHtml;\n",
              "          element.appendChild(docLink);\n",
              "        }\n",
              "      </script>\n",
              "    </div>\n",
              "  </div>\n",
              "  "
            ],
            "text/plain": [
              "              id         sesso  ...          kcal   pesoStimato\n",
              "count  36000.000  36000.000000  ...  36000.000000  36000.000000\n",
              "mean     500.500      0.481000  ...   2854.008639     -0.577729\n",
              "std      288.679      0.499646  ...    739.296984      0.931751\n",
              "min        1.000      0.000000  ...   1476.000000     -3.196676\n",
              "25%      250.750      0.000000  ...   2294.000000     -1.165279\n",
              "50%      500.500      0.000000  ...   2725.000000     -0.487886\n",
              "75%      750.250      1.000000  ...   3285.250000      0.000000\n",
              "max     1000.000      1.000000  ...   6117.000000      1.402835\n",
              "\n",
              "[8 rows x 7 columns]"
            ]
          },
          "metadata": {},
          "execution_count": 18
        }
      ]
    },
    {
      "cell_type": "markdown",
      "source": [
        "### verifica valori null nel dataset"
      ],
      "metadata": {
        "id": "Q4BfHP2CCpRn"
      }
    },
    {
      "cell_type": "code",
      "source": [
        "df.isnull().any()"
      ],
      "metadata": {
        "colab": {
          "base_uri": "https://localhost:8080/"
        },
        "id": "JUb6KYz3WpKm",
        "outputId": "a7fc5205-0331-44b4-b086-d4bbaaa8ba9c"
      },
      "execution_count": 19,
      "outputs": [
        {
          "output_type": "execute_result",
          "data": {
            "text/plain": [
              "id             False\n",
              "sesso          False\n",
              "eta            False\n",
              "mese           False\n",
              "peso           False\n",
              "kcal           False\n",
              "pesoStimato    False\n",
              "dtype: bool"
            ]
          },
          "metadata": {},
          "execution_count": 19
        }
      ]
    },
    {
      "cell_type": "markdown",
      "source": [
        "### verifica valori N/A nel dataset"
      ],
      "metadata": {
        "id": "rADiGfTKC4DC"
      }
    },
    {
      "cell_type": "code",
      "source": [
        "df.isna().any()"
      ],
      "metadata": {
        "colab": {
          "base_uri": "https://localhost:8080/"
        },
        "id": "qpmcm8s3W1l_",
        "outputId": "ca4a56ab-b910-47a7-f206-daa50c49125e"
      },
      "execution_count": 20,
      "outputs": [
        {
          "output_type": "execute_result",
          "data": {
            "text/plain": [
              "id             False\n",
              "sesso          False\n",
              "eta            False\n",
              "mese           False\n",
              "peso           False\n",
              "kcal           False\n",
              "pesoStimato    False\n",
              "dtype: bool"
            ]
          },
          "metadata": {},
          "execution_count": 20
        }
      ]
    },
    {
      "cell_type": "markdown",
      "source": [
        "## 2)Divisione in Training e Test Sets"
      ],
      "metadata": {
        "id": "oTe3HvpZGF6G"
      }
    },
    {
      "cell_type": "markdown",
      "source": [
        "### 2.1)k-fold e Repeated K-fold"
      ],
      "metadata": {
        "id": "M8VfR693GTpj"
      }
    },
    {
      "cell_type": "code",
      "source": [
        "from sklearn.model_selection import RepeatedKFold, KFold\n",
        "import numpy as np\n",
        "from sklearn.preprocessing import StandardScaler,MinMaxScaler\n",
        "from sklearn.feature_selection import VarianceThreshold\n",
        "\n",
        "#Scelta variabile dipendente (y) e indipendenti (X)\n",
        "X=df.drop('pesoStimato',1)\n",
        "y=df.pesoStimato\n",
        "\n",
        "#stratifiedKFold con 10\n",
        "kf = KFold(n_splits=10,random_state=1, shuffle=True)\n",
        "rkf = RepeatedKFold(n_splits=2, n_repeats=10, random_state=1)\n",
        "\n",
        "#z-Score Normalization Scaler\n",
        "scaler_StandardScaler = StandardScaler()\n",
        "\n",
        "#MinMax-Normalization Scaler\n",
        "scaler_MinMaxScaler = MinMaxScaler()\n",
        "\n",
        "#selector per Feature selection\n",
        "sel = VarianceThreshold(threshold=(.8 * (1 - .8)))\n",
        "\n",
        "for train_index,test_index in kf.split(X,y):\n",
        "   X_train, X_test = X.iloc[train_index], X.iloc[test_index]\n",
        "   y_train, y_test = y.iloc[train_index], y.iloc[test_index]\n",
        "\n",
        "   #feture Scaling StandardScaler sui traing test\n",
        "   X_train_z = scaler_StandardScaler.fit_transform(X_train)\n",
        "\n",
        "   #feture Scaling MinMax sui traing test\n",
        "   X_train_mm = scaler_MinMaxScaler.fit_transform(X_train)\n",
        "\n",
        "\n",
        "   #eliminazione feature con bassa varianza\n",
        "   X_train_z = sel.fit_transform(X_train_z)\n",
        "\n",
        "   print(X_train_z)\n",
        "\n",
        "  \n",
        "\n",
        "  "
      ],
      "metadata": {
        "colab": {
          "base_uri": "https://localhost:8080/"
        },
        "id": "H1iGcW0wG1PQ",
        "outputId": "d2b020dc-ca6a-467a-acef-9e5b796e83f7"
      },
      "execution_count": 65,
      "outputs": [
        {
          "output_type": "stream",
          "name": "stdout",
          "text": [
            "[[-1.73392225 -0.96136311  0.57339213 -5.87590978 -1.63407691 -1.0723443 ]\n",
            " [-1.73392225 -0.96136311  0.57339213  0.17018641 -1.60748045 -1.78115715]\n",
            " [-1.73392225 -0.96136311  0.57339213  0.17018641 -1.52999769  0.43185397]\n",
            " ...\n",
            " [ 1.73063148  1.0401897   0.73628762  0.17018641 -1.15060007 -0.5637305 ]\n",
            " [ 1.73063148  1.0401897   0.73628762  0.17018641 -1.09710421 -0.77745651]\n",
            " [ 1.73063148  1.0401897   0.73628762  0.17018641 -1.01661878 -0.94789624]]\n",
            "[[-1.72975982 -0.96380282  0.57520306 -5.95016759 -1.63913024 -1.07287681]\n",
            " [-1.72975982 -0.96380282  0.57520306  0.16806249 -1.61251213 -1.7815223 ]\n",
            " [-1.72975982 -0.96380282  0.57520306  0.16806249 -1.55921764 -0.23034601]\n",
            " ...\n",
            " [ 1.72972732  1.03755662  0.73811022  0.16806249 -1.15525975 -0.5643831 ]\n",
            " [ 1.72972732  1.03755662  0.73811022  0.16806249 -1.10172033 -0.77805865]\n",
            " [ 1.72972732  1.03755662  0.73811022  0.16806249 -1.02116937 -0.94845814]]\n",
            "[[-1.73213044 -0.96219554  0.57179285 -5.92964706 -1.63664217 -1.07148872]\n",
            " [-1.73213044 -0.96219554  0.57179285  0.1686441  -1.61000231 -1.78067888]\n",
            " [-1.73213044 -0.96219554  0.57179285  0.1686441  -1.53239312  0.43351024]\n",
            " ...\n",
            " [ 1.72918773  1.03928979  0.73454938  0.1686441  -1.15237641 -0.56260418]\n",
            " [ 1.72918773  1.03928979  0.73454938  0.1686441  -1.09879326 -0.77644396]\n",
            " [ 1.72918773  1.03928979  0.73454938  0.1686441  -1.0181765  -0.94697442]]\n",
            "[[-1.73099962 -0.96279054  0.56897697  0.16815955 -1.60835866 -1.78060119]\n",
            " [-1.73099962 -0.96279054  0.56897697  0.16815955 -1.5307354   0.43235355]\n",
            " [-1.73099962 -0.96279054  0.56897697  0.16815955 -1.55501097 -0.22909808]\n",
            " ...\n",
            " [ 1.72857208  1.03864751  0.73199248  0.16815955 -1.15064982 -0.56320555]\n",
            " [ 1.72857208  1.03864751  0.73199248  0.16815955 -1.09705696 -0.77692612]\n",
            " [ 1.72857208  1.03864751  0.73199248  0.16815955 -1.01642559 -0.94736151]]\n",
            "[[-1.72939578 -0.96380282  0.56964175 -5.9639625  -1.63465666 -1.07003455]\n",
            " [-1.72939578 -0.96380282  0.56964175  0.16767376 -1.60801765 -1.77924404]\n",
            " [-1.72939578 -0.96380282  0.56964175  0.16767376 -1.53041094  0.43500542]\n",
            " ...\n",
            " [ 1.72711967  1.03755662  0.73243099  0.16767376 -1.15040637 -0.56113615]\n",
            " [ 1.72711967  1.03755662  0.73243099  0.16767376 -1.09682494 -0.77498175]\n",
            " [ 1.72711967  1.03755662  0.73243099  0.16767376 -1.01621075 -0.94551686]]\n",
            "[[-1.72936496 -0.95863264  0.57012188 -5.88921212 -1.63842511 -1.07361659]\n",
            " [-1.72936496 -0.95863264  0.57012188  0.169802   -1.61179094 -1.78284954]\n",
            " [-1.72936496 -0.95863264  0.57012188  0.169802   -1.5341983   0.43147319]\n",
            " ...\n",
            " [ 1.73297153  1.04315246  0.73273709  0.169802   -1.11898669  0.6940518 ]\n",
            " [ 1.73297153  1.04315246  0.73273709  0.169802   -1.10069095 -0.77855402]\n",
            " [ 1.73297153  1.04315246  0.73273709  0.169802   -1.02009139 -0.94909477]]\n",
            "[[-1.72671738 -0.96416033  0.57280457 -5.86269384 -1.63583089 -1.07592546]\n",
            " [-1.72671738 -0.96416033  0.57280457  0.17057005 -1.60921908 -1.78511231]\n",
            " [-1.72671738 -0.96416033  0.57280457  0.17057005 -1.53169161  0.42906648]\n",
            " ...\n",
            " [ 1.73063429  1.0371719   0.73572527  0.17057005 -1.15207505 -0.56704329]\n",
            " [ 1.73063429  1.0371719   0.73572527  0.17057005 -1.09854832 -0.78088207]\n",
            " [ 1.73063429  1.0371719   0.73572527  0.17057005 -1.01801644 -0.95141174]]\n",
            "[[-1.73098953 -0.96356455  0.57204431 -5.96050511 -1.63692196 -1.07346297]\n",
            " [-1.73098953 -0.96356455  0.57204431  0.16777102 -1.61029789 -1.78168894]\n",
            " [-1.73098953 -0.96356455  0.57204431  0.16777102 -1.5327347   0.42948985]\n",
            " ...\n",
            " [ 1.7333547   1.03781319  0.73467739  0.16777102 -1.15294323 -0.56527029]\n",
            " [ 1.7333547   1.03781319  0.73467739  0.16777102 -1.09939184 -0.77881934]\n",
            " [ 1.7333547   1.03781319  0.73467739  0.16777102 -1.01882286 -0.94911795]]\n",
            "[[-1.73010058 -0.96410074  0.57558534 -5.9228522  -1.63852306 -1.07464917]\n",
            " [-1.73010058 -0.96410074  0.57558534  0.16883757 -1.5343006   0.42881248]\n",
            " [-1.73010058 -0.96410074  0.57558534  0.16883757 -1.55856558 -0.23233208]\n",
            " ...\n",
            " [ 1.72882654  1.03723601  0.73837594  0.16883757 -1.11910632  0.69110704]\n",
            " [ 1.72882654  1.03723601  0.73837594  0.16883757 -1.15438083 -0.56628444]\n",
            " [ 1.72882654  1.03723601  0.73837594  0.16883757 -1.10081134 -0.77990579]]\n",
            "[[-1.72984535e+00 -9.62552499e-01  5.71023298e-01 -5.86269384e+00\n",
            "  -1.63737942e+00 -1.07048694e+00]\n",
            " [-1.72984535e+00 -9.62552499e-01  5.71023298e-01  1.70570053e-01\n",
            "  -1.61075462e+00 -1.77865048e+00]\n",
            " [-1.72984535e+00 -9.62552499e-01  5.71023298e-01  1.70570053e-01\n",
            "  -1.53318931e+00  4.32333388e-01]\n",
            " ...\n",
            " [ 1.73220168e+00  1.03890437e+00  7.33873392e-01  1.70570053e-01\n",
            "  -1.12110679e+00 -5.53872180e-03]\n",
            " [ 1.73220168e+00  1.03890437e+00  7.33873392e-01  1.70570053e-01\n",
            "  -1.15338743e+00 -5.62339059e-01]\n",
            " [ 1.73220168e+00  1.03890437e+00  7.33873392e-01  1.70570053e-01\n",
            "  -1.01926339e+00 -9.46152884e-01]]\n"
          ]
        }
      ]
    },
    {
      "cell_type": "markdown",
      "source": [
        "## 3)Feature Scaling"
      ],
      "metadata": {
        "id": "FyYQIGdrDT2w"
      }
    },
    {
      "cell_type": "markdown",
      "source": [
        "### 3.1)StandardScaler (z-score Normalization)"
      ],
      "metadata": {
        "id": "7mxB9bPxBpmm"
      }
    },
    {
      "cell_type": "code",
      "source": [
        "from sklearn.preprocessing import StandardScaler\n",
        "\n",
        "scaler_StandardScaler = StandardScaler()\n",
        "\n",
        "df[df.columns] = scaler_StandardScaler.fit_transform(df.values)\n",
        "df"
      ],
      "metadata": {
        "id": "tuSQqQ0Bd_3q"
      },
      "execution_count": null,
      "outputs": []
    },
    {
      "cell_type": "markdown",
      "source": [
        "## 4)Feature Selction"
      ],
      "metadata": {
        "id": "jTOKAlunDhPo"
      }
    },
    {
      "cell_type": "code",
      "source": [
        "import seaborn as sb\n",
        "import matplotlib.pyplot as plt\n",
        "from matplotlib import style\n",
        "\n",
        "style.use('seaborn-whitegrid')\n",
        "\n",
        "plt.rcParams['figure.figsize'] = (20,10)\n",
        "\n",
        "sb.pairplot(df)\n",
        "\n",
        "plt.savefig('pairplor.png')"
      ],
      "metadata": {
        "id": "TNPUj0JhXFMS"
      },
      "execution_count": null,
      "outputs": []
    }
  ]
}