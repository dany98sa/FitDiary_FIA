{
  "nbformat": 4,
  "nbformat_minor": 0,
  "metadata": {
    "colab": {
      "name": "Classificazione.ipynb",
      "provenance": [],
      "collapsed_sections": [],
      "include_colab_link": true
    },
    "kernelspec": {
      "name": "python3",
      "display_name": "Python 3"
    },
    "language_info": {
      "name": "python"
    }
  },
  "cells": [
    {
      "cell_type": "markdown",
      "metadata": {
        "id": "view-in-github",
        "colab_type": "text"
      },
      "source": [
        "<a href=\"https://colab.research.google.com/github/rebeccadimatteo/FitDiary_FIA/blob/main/Classificazione.ipynb\" target=\"_parent\"><img src=\"https://colab.research.google.com/assets/colab-badge.svg\" alt=\"Open In Colab\"/></a>"
      ]
    },
    {
      "cell_type": "markdown",
      "source": [
        "# Classificazione"
      ],
      "metadata": {
        "id": "htEjUEmuSUNd"
      }
    },
    {
      "cell_type": "markdown",
      "source": [
        "## Ottenimento del dataset"
      ],
      "metadata": {
        "id": "zOVZlHCiSYfo"
      }
    },
    {
      "cell_type": "code",
      "source": [
        "import pandas as pd\n",
        "import os\n",
        "import matplotlib.pyplot as plt\n",
        "\n",
        "from six.moves import urllib\n",
        "\n",
        "\n",
        "\n",
        "DOWNLOAD_ROOT=\"https://raw.githubusercontent.com/rebeccadimatteo/FitDiary_FIA/master/datasetClassificazione.csv\"\n",
        "\n",
        "def fetch_file_data1(file_url1=DOWNLOAD_ROOT, file_path1=\"file\"):\n",
        "  os.makedirs(file_path1, exist_ok=True)\n",
        "  csv_path1 = os.path.join(file_path1, \"dataset.csv\")\n",
        "  urllib.request.urlretrieve(file_url1, csv_path1)\n",
        "fetch_file_data1()\n",
        "\n",
        "#df è la variabile che contiene il dataset\n",
        "df=pd.read_csv(\"file/dataset.csv\")\n",
        "df=df[[\"id\", \"eta\", \"mese\", \"peso\", \"kcal\", \"sesso\", \"pesoStimato\"]]\n",
        "df.hist()\n",
        "plt.show()\n",
        "df.head(5)"
      ],
      "metadata": {
        "colab": {
          "base_uri": "https://localhost:8080/",
          "height": 470
        },
        "id": "p-0NLaoBSgZD",
        "outputId": "d8dda9fb-0d60-421b-e2f5-a21fa9e42291"
      },
      "execution_count": 1,
      "outputs": [
        {
          "output_type": "display_data",
          "data": {
            "image/png": "[encoded data removed]",
            "text/plain": [
              "<Figure size 432x288 with 9 Axes>"
            ]
          },
          "metadata": {
            "needs_background": "light"
          }
        },
        {
          "output_type": "execute_result",
          "data": {
            "text/html": [
              "\n",
              "  <div id=\"df-30dcdc1e-9761-4e75-97eb-97cedb67876e\">\n",
              "    <div class=\"colab-df-container\">\n",
              "      <div>\n",
              "<style scoped>\n",
              "    .dataframe tbody tr th:only-of-type {\n",
              "        vertical-align: middle;\n",
              "    }\n",
              "\n",
              "    .dataframe tbody tr th {\n",
              "        vertical-align: top;\n",
              "    }\n",
              "\n",
              "    .dataframe thead th {\n",
              "        text-align: right;\n",
              "    }\n",
              "</style>\n",
              "<table border=\"1\" class=\"dataframe\">\n",
              "  <thead>\n",
              "    <tr style=\"text-align: right;\">\n",
              "      <th></th>\n",
              "      <th>id</th>\n",
              "      <th>eta</th>\n",
              "      <th>mese</th>\n",
              "      <th>peso</th>\n",
              "      <th>kcal</th>\n",
              "      <th>sesso</th>\n",
              "      <th>pesoStimato</th>\n",
              "    </tr>\n",
              "  </thead>\n",
              "  <tbody>\n",
              "    <tr>\n",
              "      <th>0</th>\n",
              "      <td>1</td>\n",
              "      <td>31</td>\n",
              "      <td>1</td>\n",
              "      <td>97.00000</td>\n",
              "      <td>1965</td>\n",
              "      <td>0</td>\n",
              "      <td>4</td>\n",
              "    </tr>\n",
              "    <tr>\n",
              "      <th>1</th>\n",
              "      <td>1</td>\n",
              "      <td>31</td>\n",
              "      <td>2</td>\n",
              "      <td>99.06005</td>\n",
              "      <td>2047</td>\n",
              "      <td>0</td>\n",
              "      <td>5</td>\n",
              "    </tr>\n",
              "    <tr>\n",
              "      <th>2</th>\n",
              "      <td>1</td>\n",
              "      <td>31</td>\n",
              "      <td>3</td>\n",
              "      <td>100.93987</td>\n",
              "      <td>2127</td>\n",
              "      <td>0</td>\n",
              "      <td>4</td>\n",
              "    </tr>\n",
              "    <tr>\n",
              "      <th>3</th>\n",
              "      <td>1</td>\n",
              "      <td>31</td>\n",
              "      <td>4</td>\n",
              "      <td>103.08139</td>\n",
              "      <td>2365</td>\n",
              "      <td>0</td>\n",
              "      <td>9</td>\n",
              "    </tr>\n",
              "    <tr>\n",
              "      <th>4</th>\n",
              "      <td>1</td>\n",
              "      <td>31</td>\n",
              "      <td>5</td>\n",
              "      <td>103.97695</td>\n",
              "      <td>2900</td>\n",
              "      <td>0</td>\n",
              "      <td>12</td>\n",
              "    </tr>\n",
              "  </tbody>\n",
              "</table>\n",
              "</div>\n",
              "      <button class=\"colab-df-convert\" onclick=\"convertToInteractive('df-30dcdc1e-9761-4e75-97eb-97cedb67876e')\"\n",
              "              title=\"Convert this dataframe to an interactive table.\"\n",
              "              style=\"display:none;\">\n",
              "        \n",
              "  <svg xmlns=\"http://www.w3.org/2000/svg\" height=\"24px\"viewBox=\"0 0 24 24\"\n",
              "       width=\"24px\">\n",
              "    <path d=\"M0 0h24v24H0V0z\" fill=\"none\"/>\n",
              "    <path d=\"M18.56 5.44l.94 2.06.94-2.06 2.06-.94-2.06-.94-.94-2.06-.94 2.06-2.06.94zm-11 1L8.5 8.5l.94-2.06 2.06-.94-2.06-.94L8.5 2.5l-.94 2.06-2.06.94zm10 10l.94 2.06.94-2.06 2.06-.94-2.06-.94-.94-2.06-.94 2.06-2.06.94z\"/><path d=\"M17.41 7.96l-1.37-1.37c-.4-.4-.92-.59-1.43-.59-.52 0-1.04.2-1.43.59L10.3 9.45l-7.72 7.72c-.78.78-.78 2.05 0 2.83L4 21.41c.39.39.9.59 1.41.59.51 0 1.02-.2 1.41-.59l7.78-7.78 2.81-2.81c.8-.78.8-2.07 0-2.86zM5.41 20L4 18.59l7.72-7.72 1.47 1.35L5.41 20z\"/>\n",
              "  </svg>\n",
              "      </button>\n",
              "      \n",
              "  <style>\n",
              "    .colab-df-container {\n",
              "      display:flex;\n",
              "      flex-wrap:wrap;\n",
              "      gap: 12px;\n",
              "    }\n",
              "\n",
              "    .colab-df-convert {\n",
              "      background-color: #E8F0FE;\n",
              "      border: none;\n",
              "      border-radius: 50%;\n",
              "      cursor: pointer;\n",
              "      display: none;\n",
              "      fill: #1967D2;\n",
              "      height: 32px;\n",
              "      padding: 0 0 0 0;\n",
              "      width: 32px;\n",
              "    }\n",
              "\n",
              "    .colab-df-convert:hover {\n",
              "      background-color: #E2EBFA;\n",
              "      box-shadow: 0px 1px 2px rgba(60, 64, 67, 0.3), 0px 1px 3px 1px rgba(60, 64, 67, 0.15);\n",
              "      fill: #174EA6;\n",
              "    }\n",
              "\n",
              "    [theme=dark] .colab-df-convert {\n",
              "      background-color: #3B4455;\n",
              "      fill: #D2E3FC;\n",
              "    }\n",
              "\n",
              "    [theme=dark] .colab-df-convert:hover {\n",
              "      background-color: #434B5C;\n",
              "      box-shadow: 0px 1px 3px 1px rgba(0, 0, 0, 0.15);\n",
              "      filter: drop-shadow(0px 1px 2px rgba(0, 0, 0, 0.3));\n",
              "      fill: #FFFFFF;\n",
              "    }\n",
              "  </style>\n",
              "\n",
              "      <script>\n",
              "        const buttonEl =\n",
              "          document.querySelector('#df-30dcdc1e-9761-4e75-97eb-97cedb67876e button.colab-df-convert');\n",
              "        buttonEl.style.display =\n",
              "          google.colab.kernel.accessAllowed ? 'block' : 'none';\n",
              "\n",
              "        async function convertToInteractive(key) {\n",
              "          const element = document.querySelector('#df-30dcdc1e-9761-4e75-97eb-97cedb67876e');\n",
              "          const dataTable =\n",
              "            await google.colab.kernel.invokeFunction('convertToInteractive',\n",
              "                                                     [key], {});\n",
              "          if (!dataTable) return;\n",
              "\n",
              "          const docLinkHtml = 'Like what you see? Visit the ' +\n",
              "            '<a target=\"_blank\" href=https://colab.research.google.com/notebooks/data_table.ipynb>data table notebook</a>'\n",
              "            + ' to learn more about interactive tables.';\n",
              "          element.innerHTML = '';\n",
              "          dataTable['output_type'] = 'display_data';\n",
              "          await google.colab.output.renderOutput(dataTable, element);\n",
              "          const docLink = document.createElement('div');\n",
              "          docLink.innerHTML = docLinkHtml;\n",
              "          element.appendChild(docLink);\n",
              "        }\n",
              "      </script>\n",
              "    </div>\n",
              "  </div>\n",
              "  "
            ],
            "text/plain": [
              "   id  eta  mese       peso  kcal  sesso  pesoStimato\n",
              "0   1   31     1   97.00000  1965      0            4\n",
              "1   1   31     2   99.06005  2047      0            5\n",
              "2   1   31     3  100.93987  2127      0            4\n",
              "3   1   31     4  103.08139  2365      0            9\n",
              "4   1   31     5  103.97695  2900      0           12"
            ]
          },
          "metadata": {},
          "execution_count": 1
        }
      ]
    },
    {
      "cell_type": "markdown",
      "source": [
        "## 1) DataCleaning"
      ],
      "metadata": {
        "id": "SRJIuMsSpnAc"
      }
    },
    {
      "cell_type": "markdown",
      "source": [
        "## 1.1) Descrizione del dataset"
      ],
      "metadata": {
        "id": "M7PGHgSeppOO"
      }
    },
    {
      "cell_type": "code",
      "source": [
        "df.describe()"
      ],
      "metadata": {
        "colab": {
          "base_uri": "https://localhost:8080/",
          "height": 300
        },
        "id": "PhQ_QbQ-pmbL",
        "outputId": "bf9f34a9-e6d2-436f-c0d3-3a4db31f645e"
      },
      "execution_count": 2,
      "outputs": [
        {
          "output_type": "execute_result",
          "data": {
            "text/html": [
              "\n",
              "  <div id=\"df-53d27bdb-d8b8-43a2-a6e2-42b3228e8a2a\">\n",
              "    <div class=\"colab-df-container\">\n",
              "      <div>\n",
              "<style scoped>\n",
              "    .dataframe tbody tr th:only-of-type {\n",
              "        vertical-align: middle;\n",
              "    }\n",
              "\n",
              "    .dataframe tbody tr th {\n",
              "        vertical-align: top;\n",
              "    }\n",
              "\n",
              "    .dataframe thead th {\n",
              "        text-align: right;\n",
              "    }\n",
              "</style>\n",
              "<table border=\"1\" class=\"dataframe\">\n",
              "  <thead>\n",
              "    <tr style=\"text-align: right;\">\n",
              "      <th></th>\n",
              "      <th>id</th>\n",
              "      <th>eta</th>\n",
              "      <th>mese</th>\n",
              "      <th>peso</th>\n",
              "      <th>kcal</th>\n",
              "      <th>sesso</th>\n",
              "      <th>pesoStimato</th>\n",
              "    </tr>\n",
              "  </thead>\n",
              "  <tbody>\n",
              "    <tr>\n",
              "      <th>count</th>\n",
              "      <td>36000.000</td>\n",
              "      <td>36000.00000</td>\n",
              "      <td>36000.000000</td>\n",
              "      <td>36000.000000</td>\n",
              "      <td>36000.000000</td>\n",
              "      <td>36000.000000</td>\n",
              "      <td>36000.000000</td>\n",
              "    </tr>\n",
              "    <tr>\n",
              "      <th>mean</th>\n",
              "      <td>500.500</td>\n",
              "      <td>37.73400</td>\n",
              "      <td>18.500000</td>\n",
              "      <td>94.244248</td>\n",
              "      <td>2882.834750</td>\n",
              "      <td>0.499000</td>\n",
              "      <td>10.286444</td>\n",
              "    </tr>\n",
              "    <tr>\n",
              "      <th>std</th>\n",
              "      <td>288.679</td>\n",
              "      <td>12.03899</td>\n",
              "      <td>10.388439</td>\n",
              "      <td>15.965455</td>\n",
              "      <td>746.024417</td>\n",
              "      <td>0.500006</td>\n",
              "      <td>3.722119</td>\n",
              "    </tr>\n",
              "    <tr>\n",
              "      <th>min</th>\n",
              "      <td>1.000</td>\n",
              "      <td>18.00000</td>\n",
              "      <td>1.000000</td>\n",
              "      <td>57.922405</td>\n",
              "      <td>1477.000000</td>\n",
              "      <td>0.000000</td>\n",
              "      <td>0.000000</td>\n",
              "    </tr>\n",
              "    <tr>\n",
              "      <th>25%</th>\n",
              "      <td>250.750</td>\n",
              "      <td>28.00000</td>\n",
              "      <td>9.750000</td>\n",
              "      <td>81.807890</td>\n",
              "      <td>2319.750000</td>\n",
              "      <td>0.000000</td>\n",
              "      <td>8.000000</td>\n",
              "    </tr>\n",
              "    <tr>\n",
              "      <th>50%</th>\n",
              "      <td>500.500</td>\n",
              "      <td>37.00000</td>\n",
              "      <td>18.500000</td>\n",
              "      <td>94.261995</td>\n",
              "      <td>2750.000000</td>\n",
              "      <td>0.000000</td>\n",
              "      <td>11.000000</td>\n",
              "    </tr>\n",
              "    <tr>\n",
              "      <th>75%</th>\n",
              "      <td>750.250</td>\n",
              "      <td>48.00000</td>\n",
              "      <td>27.250000</td>\n",
              "      <td>106.820873</td>\n",
              "      <td>3335.000000</td>\n",
              "      <td>1.000000</td>\n",
              "      <td>13.000000</td>\n",
              "    </tr>\n",
              "    <tr>\n",
              "      <th>max</th>\n",
              "      <td>1000.000</td>\n",
              "      <td>59.00000</td>\n",
              "      <td>36.000000</td>\n",
              "      <td>142.536450</td>\n",
              "      <td>6012.000000</td>\n",
              "      <td>1.000000</td>\n",
              "      <td>18.000000</td>\n",
              "    </tr>\n",
              "  </tbody>\n",
              "</table>\n",
              "</div>\n",
              "      <button class=\"colab-df-convert\" onclick=\"convertToInteractive('df-53d27bdb-d8b8-43a2-a6e2-42b3228e8a2a')\"\n",
              "              title=\"Convert this dataframe to an interactive table.\"\n",
              "              style=\"display:none;\">\n",
              "        \n",
              "  <svg xmlns=\"http://www.w3.org/2000/svg\" height=\"24px\"viewBox=\"0 0 24 24\"\n",
              "       width=\"24px\">\n",
              "    <path d=\"M0 0h24v24H0V0z\" fill=\"none\"/>\n",
              "    <path d=\"M18.56 5.44l.94 2.06.94-2.06 2.06-.94-2.06-.94-.94-2.06-.94 2.06-2.06.94zm-11 1L8.5 8.5l.94-2.06 2.06-.94-2.06-.94L8.5 2.5l-.94 2.06-2.06.94zm10 10l.94 2.06.94-2.06 2.06-.94-2.06-.94-.94-2.06-.94 2.06-2.06.94z\"/><path d=\"M17.41 7.96l-1.37-1.37c-.4-.4-.92-.59-1.43-.59-.52 0-1.04.2-1.43.59L10.3 9.45l-7.72 7.72c-.78.78-.78 2.05 0 2.83L4 21.41c.39.39.9.59 1.41.59.51 0 1.02-.2 1.41-.59l7.78-7.78 2.81-2.81c.8-.78.8-2.07 0-2.86zM5.41 20L4 18.59l7.72-7.72 1.47 1.35L5.41 20z\"/>\n",
              "  </svg>\n",
              "      </button>\n",
              "      \n",
              "  <style>\n",
              "    .colab-df-container {\n",
              "      display:flex;\n",
              "      flex-wrap:wrap;\n",
              "      gap: 12px;\n",
              "    }\n",
              "\n",
              "    .colab-df-convert {\n",
              "      background-color: #E8F0FE;\n",
              "      border: none;\n",
              "      border-radius: 50%;\n",
              "      cursor: pointer;\n",
              "      display: none;\n",
              "      fill: #1967D2;\n",
              "      height: 32px;\n",
              "      padding: 0 0 0 0;\n",
              "      width: 32px;\n",
              "    }\n",
              "\n",
              "    .colab-df-convert:hover {\n",
              "      background-color: #E2EBFA;\n",
              "      box-shadow: 0px 1px 2px rgba(60, 64, 67, 0.3), 0px 1px 3px 1px rgba(60, 64, 67, 0.15);\n",
              "      fill: #174EA6;\n",
              "    }\n",
              "\n",
              "    [theme=dark] .colab-df-convert {\n",
              "      background-color: #3B4455;\n",
              "      fill: #D2E3FC;\n",
              "    }\n",
              "\n",
              "    [theme=dark] .colab-df-convert:hover {\n",
              "      background-color: #434B5C;\n",
              "      box-shadow: 0px 1px 3px 1px rgba(0, 0, 0, 0.15);\n",
              "      filter: drop-shadow(0px 1px 2px rgba(0, 0, 0, 0.3));\n",
              "      fill: #FFFFFF;\n",
              "    }\n",
              "  </style>\n",
              "\n",
              "      <script>\n",
              "        const buttonEl =\n",
              "          document.querySelector('#df-53d27bdb-d8b8-43a2-a6e2-42b3228e8a2a button.colab-df-convert');\n",
              "        buttonEl.style.display =\n",
              "          google.colab.kernel.accessAllowed ? 'block' : 'none';\n",
              "\n",
              "        async function convertToInteractive(key) {\n",
              "          const element = document.querySelector('#df-53d27bdb-d8b8-43a2-a6e2-42b3228e8a2a');\n",
              "          const dataTable =\n",
              "            await google.colab.kernel.invokeFunction('convertToInteractive',\n",
              "                                                     [key], {});\n",
              "          if (!dataTable) return;\n",
              "\n",
              "          const docLinkHtml = 'Like what you see? Visit the ' +\n",
              "            '<a target=\"_blank\" href=https://colab.research.google.com/notebooks/data_table.ipynb>data table notebook</a>'\n",
              "            + ' to learn more about interactive tables.';\n",
              "          element.innerHTML = '';\n",
              "          dataTable['output_type'] = 'display_data';\n",
              "          await google.colab.output.renderOutput(dataTable, element);\n",
              "          const docLink = document.createElement('div');\n",
              "          docLink.innerHTML = docLinkHtml;\n",
              "          element.appendChild(docLink);\n",
              "        }\n",
              "      </script>\n",
              "    </div>\n",
              "  </div>\n",
              "  "
            ],
            "text/plain": [
              "              id          eta  ...         sesso   pesoStimato\n",
              "count  36000.000  36000.00000  ...  36000.000000  36000.000000\n",
              "mean     500.500     37.73400  ...      0.499000     10.286444\n",
              "std      288.679     12.03899  ...      0.500006      3.722119\n",
              "min        1.000     18.00000  ...      0.000000      0.000000\n",
              "25%      250.750     28.00000  ...      0.000000      8.000000\n",
              "50%      500.500     37.00000  ...      0.000000     11.000000\n",
              "75%      750.250     48.00000  ...      1.000000     13.000000\n",
              "max     1000.000     59.00000  ...      1.000000     18.000000\n",
              "\n",
              "[8 rows x 7 columns]"
            ]
          },
          "metadata": {},
          "execution_count": 2
        }
      ]
    },
    {
      "cell_type": "markdown",
      "source": [
        "## 1.2) Verifica valori null nel dataset"
      ],
      "metadata": {
        "id": "QiSjh03yp0KG"
      }
    },
    {
      "cell_type": "code",
      "source": [
        "#verifica se ci sono dati null nel dataset\n",
        "df.isnull().any()"
      ],
      "metadata": {
        "colab": {
          "base_uri": "https://localhost:8080/"
        },
        "id": "xcSgCNYhpzLw",
        "outputId": "5c2d4afc-fcd9-4006-a473-e6849453cbbc"
      },
      "execution_count": 3,
      "outputs": [
        {
          "output_type": "execute_result",
          "data": {
            "text/plain": [
              "id             False\n",
              "eta            False\n",
              "mese           False\n",
              "peso           False\n",
              "kcal           False\n",
              "sesso          False\n",
              "pesoStimato    False\n",
              "dtype: bool"
            ]
          },
          "metadata": {},
          "execution_count": 3
        }
      ]
    },
    {
      "cell_type": "code",
      "source": [
        "#verifica se ci sono dati NA nel dataset\n",
        "df.isna().any()"
      ],
      "metadata": {
        "colab": {
          "base_uri": "https://localhost:8080/"
        },
        "id": "owJUi29pp4lM",
        "outputId": "ee3457e9-85d5-4b76-eb94-72582d575694"
      },
      "execution_count": 4,
      "outputs": [
        {
          "output_type": "execute_result",
          "data": {
            "text/plain": [
              "id             False\n",
              "eta            False\n",
              "mese           False\n",
              "peso           False\n",
              "kcal           False\n",
              "sesso          False\n",
              "pesoStimato    False\n",
              "dtype: bool"
            ]
          },
          "metadata": {},
          "execution_count": 4
        }
      ]
    },
    {
      "cell_type": "markdown",
      "source": [
        "### 1.3) Correlazione delle features"
      ],
      "metadata": {
        "id": "JLb0TdBbqnlk"
      }
    },
    {
      "cell_type": "code",
      "source": [
        "import seaborn as sb\n",
        "from matplotlib import style\n",
        "\n",
        "style.use('seaborn-whitegrid')\n",
        "plt.rcParams['figure.figsize'] = (20,10)\n",
        "sb.heatmap(df.corr(), annot=True, cmap=\"RdYlGn\", square=True)"
      ],
      "metadata": {
        "colab": {
          "base_uri": "https://localhost:8080/",
          "height": 610
        },
        "id": "iBkahFgAqzf8",
        "outputId": "a54e0e63-7fea-4ceb-ab69-ace265c0df4f"
      },
      "execution_count": 5,
      "outputs": [
        {
          "output_type": "execute_result",
          "data": {
            "text/plain": [
              "<matplotlib.axes._subplots.AxesSubplot at 0x7f4f952869d0>"
            ]
          },
          "metadata": {},
          "execution_count": 5
        },
        {
          "output_type": "display_data",
          "data": {
            "image/png": "[encoded data removed]",
            "text/plain": [
              "<Figure size 1440x720 with 2 Axes>"
            ]
          },
          "metadata": {}
        }
      ]
    },
    {
      "cell_type": "code",
      "source": [
        ""
      ],
      "metadata": {
        "id": "Vtz5fSM8fXRZ"
      },
      "execution_count": 5,
      "outputs": []
    },
    {
      "cell_type": "markdown",
      "source": [
        "## 2)Divisione in Training e Test Sets, Feature Selection"
      ],
      "metadata": {
        "id": "TsfaMA2LqCW-"
      }
    },
    {
      "cell_type": "markdown",
      "source": [
        "### 2.1) definizione classe metrics"
      ],
      "metadata": {
        "id": "a5uM4RWkqKDP"
      }
    },
    {
      "cell_type": "code",
      "source": [
        "#oggetto che contiene le metriche\n",
        "class Metrics1:\n",
        "  #costruttore\n",
        "  def __init__(self,precision,recall,accuracy,mcc,model):\n",
        "    self.precision=precision\n",
        "    self.recall=recall\n",
        "    self.accuracy=accuracy\n",
        "    self.mcc=mcc\n",
        "    self.model=model\n",
        "  \n",
        "  #ToString\n",
        "  def __str__(self):\n",
        "    return f'Metrics [precision= {self.precision} recall= {self.recall} accuracy= {self.accuracy} mcc= {self.mcc}'"
      ],
      "metadata": {
        "id": "J1PRnwhTqB3O"
      },
      "execution_count": 6,
      "outputs": []
    },
    {
      "cell_type": "markdown",
      "source": [
        "### 2.2)Definizione class MetricsResultContainer"
      ],
      "metadata": {
        "id": "dr-Wm8SvrfAY"
      }
    },
    {
      "cell_type": "code",
      "source": [
        "import numpy as np\n",
        "class MetricsResultContainer:\n",
        "  meanPrecision = []\n",
        "  meanRecall = []\n",
        "  meanAccuracy = []\n",
        "  meanMcc =[]\n",
        "  #costruttore\n",
        "  def __init__(self,model,alg,scaler,param,metricsMean,balance):\n",
        "    self.model=model\n",
        "    self.alg=alg\n",
        "    self.scaler=scaler\n",
        "    self.param=param\n",
        "    self.metricsMean=metricsMean\n",
        "    self.meanPrecision = []\n",
        "    self.meanRecall = []\n",
        "    self.meanAccuracy = []\n",
        "    self.meanMcc =[]\n",
        "    self.balance=balance\n",
        "  \n",
        "  def printMetrics(self):\n",
        "    for m in self.metricsMean:\n",
        "      self.meanPrecision.append(m.precision)\n",
        "      self.meanRecall.append(m.recall)\n",
        "      self.meanAccuracy.append(m.accuracy)\n",
        "      self.meanMcc.append(m.mcc)\n",
        "    print(\"meanPrecision=\",np.mean(self.meanPrecision))    \n",
        "    print(\"meanRecall=\",np.mean(self.meanRecall))    \n",
        "    print(\"meanAccuracy=\",np.mean(self.meanAccuracy))\n",
        "    print(\"meanMcc=\",np.mean(self.meanMcc))"
      ],
      "metadata": {
        "id": "IN2FXsO1rehh"
      },
      "execution_count": 7,
      "outputs": []
    },
    {
      "cell_type": "markdown",
      "source": [
        "### 2.3) Definizione funzione generateModel"
      ],
      "metadata": {
        "id": "fESH-9iQtinB"
      }
    },
    {
      "cell_type": "code",
      "source": [
        "import copy\n",
        "from sklearn import metrics\n",
        "from sklearn.metrics import classification_report\n",
        "from sklearn.model_selection import RepeatedKFold, KFold\n",
        "from sklearn.feature_selection import SelectKBest, f_classif\n",
        "from sklearn.preprocessing import StandardScaler,MinMaxScaler,RobustScaler\n",
        "\n",
        "def generateModel(alg, scaler, model, select,balance):\n",
        "  #array di metriche (MAE,MSE,RMSE)\n",
        "  metrics1 = []\n",
        "  #generazione n_split test/trainig sets\n",
        "  \n",
        "  for train_index, test_index in alg.split(X,y):\n",
        "    X_train, X_test = X.iloc[train_index], X.iloc[test_index]\n",
        "    y_train, y_test = y.iloc[train_index], y.iloc[test_index]\n",
        "    X_train,y_train=balance(X_train,y_train)\n",
        "    #feature scaling sui traing test\n",
        "    X_train_z = scaler.fit_transform(X_train)\n",
        "    X_test_z = scaler.transform(X_test)\n",
        "    #applicazione feature scaling su train_z\n",
        "    X_train_z = select.fit_transform(X_train_z, y_train)\n",
        "    X_test_z = select.transform(X_test_z)\n",
        "    \n",
        "    #training dell'algoritmo sui training set\n",
        "    model.fit(X_train_z,y_train)\n",
        "    #validazione modello e applicazione predizione sui testSet\n",
        "    y_pred = model.predict(X_test_z)\n",
        "    modelCopy = copy.copy(model)\n",
        "    #calcolo metriche predizion\n",
        "    metrics1.append(Metrics1(metrics.precision_score(y_test,y_pred,\n",
        "                                           average='micro'),\n",
        "                            metrics.recall_score(y_test,y_pred,\n",
        "                                           average='micro'),\n",
        "                            metrics.accuracy_score(y_test,y_pred),\n",
        "                            metrics.matthews_corrcoef(y_test,y_pred) ,\n",
        "                            modelCopy))\n",
        "    \n",
        "  #array medie degli errori kf\n",
        "  meanPrecision = []\n",
        "  meanRecall = []\n",
        "  meanAccuracy = []\n",
        "  meanMcc =[]\n",
        "\n",
        "  #calcolo singole medie degli errori kf\n",
        "  for m in metrics1:\n",
        "    meanPrecision.append(m.precision)\n",
        "    meanRecall.append(m.recall)\n",
        "    meanAccuracy.append(m.accuracy)\n",
        "    meanMcc.append(m.mcc)\n",
        "    \n",
        "\n",
        "  print(\"meanPrecision=\",np.mean(meanPrecision))    \n",
        "  print(\"meanRecall=\",np.mean(meanRecall))    \n",
        "  print(\"meanAccuracy=\",np.mean(meanAccuracy))\n",
        "  print(\"meanMcc=\",np.mean(meanMcc))\n",
        "\n",
        "  return metrics1\n",
        "#Scelta variabile dipendente (y) e indipendenti (X)\n",
        "X=df.drop(columns='pesoStimato')\n",
        "y=df.pesoStimato\n",
        "#numero record nel dataset\n",
        "k=len(df)\n",
        "#calcolo k ideale da usare nelle tecniche di validazione\n",
        "k= (k/(k*0.3))\n",
        "#Kf con k gruppi\n",
        "kf = KFold(n_splits=int(np.ceil(k)),random_state=42, shuffle=True)\n",
        "#rKf con k gruppi, e 10 ripetizioni\n",
        "rkf = RepeatedKFold(n_splits=int(np.ceil(k)), n_repeats=10, random_state=42)\n",
        "#rkf con 3 gruppi e 10 ripetizioni per questioni della ram del coso\n",
        "rkfRF = RepeatedKFold(n_splits=2, n_repeats=8, random_state=42)\n",
        "#instanziazione algritmo per selezione dei KBest individui\n",
        "select = SelectKBest(f_classif, k=4)\n",
        "#risultati: array di array di metriche\n",
        "metricsResults = []"
      ],
      "metadata": {
        "id": "DNZDFUITtroc"
      },
      "execution_count": 8,
      "outputs": []
    },
    {
      "cell_type": "markdown",
      "source": [
        "###2.4) Data Balancing"
      ],
      "metadata": {
        "id": "0apIdMqVfF72"
      }
    },
    {
      "cell_type": "code",
      "source": [
        "from imblearn.under_sampling import RandomUnderSampler\n",
        "\n",
        "def bilanciamentoDatiUnderSampling(X_train,y_train):\n",
        " undersample = RandomUnderSampler(sampling_strategy='majority')\n",
        " X_train_under, y_train_under = undersample.fit_resample(X_train, y_train)\n",
        " return X_train_under, y_train_under\n",
        "\n",
        " "
      ],
      "metadata": {
        "id": "LeAvBC1Hf0Ld"
      },
      "execution_count": 9,
      "outputs": []
    },
    {
      "cell_type": "code",
      "source": [
        "from imblearn.over_sampling import RandomOverSampler\n",
        "\n",
        "def bilanciamentoDatiOverSampling(X_train,y_train):\n",
        " oversample = RandomOverSampler(random_state=42)\n",
        " X_train_over, y_train_over= oversample.fit_resample(X_train, y_train)\n",
        " return X_train_over, y_train_over\n",
        "\n"
      ],
      "metadata": {
        "id": "3P7P71gwiWKu"
      },
      "execution_count": 10,
      "outputs": []
    },
    {
      "cell_type": "markdown",
      "source": [
        "## 3) Model testing"
      ],
      "metadata": {
        "id": "t24GJtXGuwrq"
      }
    },
    {
      "cell_type": "markdown",
      "source": [
        "### 3.1) NaiveBayes"
      ],
      "metadata": {
        "id": "HH4QqEt7u606"
      }
    },
    {
      "cell_type": "markdown",
      "source": [
        "#### 3.1.1) Gaussian Naive Bayes"
      ],
      "metadata": {
        "id": "cQAPWrYAvRxg"
      }
    },
    {
      "cell_type": "markdown",
      "source": [
        ""
      ],
      "metadata": {
        "id": "NEnlkWNYe_w_"
      }
    },
    {
      "cell_type": "code",
      "source": [
        "from sklearn.naive_bayes import GaussianNB\n",
        "\n",
        "print(\"Gaussian Naive Bayes - ZScore Normalization - KF-Under Sampler\")\n",
        "metricsResults.append(\n",
        "  MetricsResultContainer(\"Gaussian Naive Bayes\",\"KF\",\"ZScore\",\"Default\",\n",
        "    generateModel(kf, StandardScaler(),  GaussianNB(), select,bilanciamentoDatiUnderSampling),\n",
        "    \"underSampler\"\n",
        "\n",
        "  )\n",
        ")\n",
        "print(\"\\nGaussian Naive Bayes - ZScore Normalization - RKF- Under Sampler\")\n",
        "metricsResults.append(\n",
        "  MetricsResultContainer(\"Gaussian Naive Bayes\",\"RKF\",\"ZScore\",\"Default\",\n",
        "    generateModel(rkf, StandardScaler(),  GaussianNB(), select,bilanciamentoDatiUnderSampling),\n",
        "    \"underSampler\"\n",
        "\n",
        "  )\n",
        ")\n",
        "print(\"\\nGaussian Naive Bayes - MinMax Normalization - KF- Under Sampler\")\n",
        "metricsResults.append(\n",
        "  MetricsResultContainer(\"Gaussian Naive Bayes\",\"KF\",\"MinMax\",\"Default\",\n",
        "    generateModel(kf, MinMaxScaler(),  GaussianNB(), select,bilanciamentoDatiUnderSampling),\n",
        "    \"underSampler\"\n",
        "\n",
        "  )\n",
        ")\n",
        "print(\"\\nGaussian Naive Bayes - MinMax Normalization - RKF- Under Sampler\")\n",
        "metricsResults.append(\n",
        "  MetricsResultContainer(\"Gaussian Naive Bayes\",\"RKF\",\"MinMax\",\"Default\",\n",
        "    generateModel(rkf, MinMaxScaler(),  GaussianNB(), select,bilanciamentoDatiUnderSampling),\n",
        "    \"underSampler\"\n",
        "\n",
        "  )\n",
        ")\n",
        "print(\"\\nGaussian Naive Bayes - RobustScaler Normalization - KF- Under Sampler\")\n",
        "metricsResults.append(\n",
        "  MetricsResultContainer(\"Gaussian Naive Bayes\",\"KF\",\"RobustScaler\",\"Default\",\n",
        "    generateModel(kf, RobustScaler(),  GaussianNB(), select,bilanciamentoDatiUnderSampling),\n",
        "    \"underSampler\"\n",
        "\n",
        "  )\n",
        ")\n",
        "print(\"\\nGaussian Naive Bayes - RobustScaler Normalization - RKF- Under Sampler\")\n",
        "metricsResults.append(\n",
        "  MetricsResultContainer(\"Gaussian Naive Bayes\",\"RKF\",\"RobustScaler\",\"Default\",\n",
        "    generateModel(rkf, RobustScaler(), GaussianNB(), select,bilanciamentoDatiUnderSampling),\n",
        "    \"underSampler\"\n",
        "\n",
        "  )\n",
        ")\n",
        "\n",
        "\n",
        "\n",
        "print(\"Gaussian Naive Bayes - ZScore Normalization - KF-Over Sampler\")\n",
        "metricsResults.append(\n",
        "  MetricsResultContainer(\"Gaussian Naive Bayes\",\"KF\",\"ZScore\",\"Default\",\n",
        "    generateModel(kf, StandardScaler(),  GaussianNB(), select,bilanciamentoDatiOverSampling),\n",
        "    \"overSampler\"\n",
        "\n",
        "  )\n",
        ")\n",
        "print(\"\\nGaussian Naive Bayes - ZScore Normalization - RKF- Over Sampler\")\n",
        "metricsResults.append(\n",
        "  MetricsResultContainer(\"Gaussian Naive Bayes\",\"RKF\",\"ZScore\",\"Default\",\n",
        "    generateModel(rkf, StandardScaler(),  GaussianNB(), select,bilanciamentoDatiOverSampling),\n",
        "    \"overSampler\"\n",
        "\n",
        "  )\n",
        ")\n",
        "print(\"\\nGaussian Naive Bayes - MinMax Normalization - KF- Over Sampler\")\n",
        "metricsResults.append(\n",
        "  MetricsResultContainer(\"Gaussian Naive Bayes\",\"KF\",\"MinMax\",\"Default\",\n",
        "    generateModel(kf, MinMaxScaler(),  GaussianNB(), select,bilanciamentoDatiOverSampling),\n",
        "    \"overSampler\"\n",
        "\n",
        "  )\n",
        ")\n",
        "print(\"\\nGaussian Naive Bayes - MinMax Normalization - RKF- Over Sampler\")\n",
        "metricsResults.append(\n",
        "  MetricsResultContainer(\"Gaussian Naive Bayes\",\"RKF\",\"MinMax\",\"Default\",\n",
        "    generateModel(rkf, MinMaxScaler(),  GaussianNB(), select,bilanciamentoDatiOverSampling),\n",
        "    \"overSampler\"\n",
        "\n",
        "  )\n",
        ")\n",
        "print(\"\\nGaussian Naive Bayes - RobustScaler Normalization - KF- Over Sampler\")\n",
        "metricsResults.append(\n",
        "  MetricsResultContainer(\"Gaussian Naive Bayes\",\"KF\",\"RobustScaler\",\"Default\",\n",
        "    generateModel(kf, RobustScaler(),  GaussianNB(), select,bilanciamentoDatiOverSampling),\n",
        "    \"overSampler\"\n",
        "\n",
        "  )\n",
        ")\n",
        "print(\"\\nGaussian Naive Bayes - RobustScaler Normalization - RKF- Over Sampler\")\n",
        "metricsResults.append(\n",
        "  MetricsResultContainer(\"Gaussian Naive Bayes\",\"RKF\",\"RobustScaler\",\"Default\",\n",
        "    generateModel(rkf, RobustScaler(), GaussianNB(), select,bilanciamentoDatiOverSampling),\n",
        "    \"overSampler\"\n",
        "\n",
        "  )\n",
        ")"
      ],
      "metadata": {
        "colab": {
          "base_uri": "https://localhost:8080/"
        },
        "id": "IEl7lpd9uvje",
        "outputId": "f44dab9d-fff2-47fe-d55b-e6e85de8bc2a"
      },
      "execution_count": 11,
      "outputs": [
        {
          "output_type": "stream",
          "name": "stdout",
          "text": [
            "Gaussian Naive Bayes - ZScore Normalization - KF-Under Sampler\n",
            "meanPrecision= 0.2073611111111111\n",
            "meanRecall= 0.2073611111111111\n",
            "meanAccuracy= 0.2073611111111111\n",
            "meanMcc= 0.13255892976365438\n",
            "\n",
            "Gaussian Naive Bayes - ZScore Normalization - RKF- Under Sampler\n",
            "meanPrecision= 0.207775\n",
            "meanRecall= 0.207775\n",
            "meanAccuracy= 0.207775\n",
            "meanMcc= 0.13340978588309255\n",
            "\n",
            "Gaussian Naive Bayes - MinMax Normalization - KF- Under Sampler\n",
            "meanPrecision= 0.20802777777777778\n",
            "meanRecall= 0.20802777777777778\n",
            "meanAccuracy= 0.20802777777777778\n",
            "meanMcc= 0.13334229618608853\n",
            "\n",
            "Gaussian Naive Bayes - MinMax Normalization - RKF- Under Sampler\n",
            "meanPrecision= 0.20786388888888885\n",
            "meanRecall= 0.20786388888888885\n",
            "meanAccuracy= 0.20786388888888885\n",
            "meanMcc= 0.13348414767436073\n",
            "\n",
            "Gaussian Naive Bayes - RobustScaler Normalization - KF- Under Sampler\n",
            "meanPrecision= 0.2073611111111111\n",
            "meanRecall= 0.2073611111111111\n",
            "meanAccuracy= 0.2073611111111111\n",
            "meanMcc= 0.13255892976365438\n",
            "\n",
            "Gaussian Naive Bayes - RobustScaler Normalization - RKF- Under Sampler\n",
            "meanPrecision= 0.20767777777777777\n",
            "meanRecall= 0.20767777777777777\n",
            "meanAccuracy= 0.20767777777777777\n",
            "meanMcc= 0.13329664265761024\n",
            "Gaussian Naive Bayes - ZScore Normalization - KF-Over Sampler\n",
            "meanPrecision= 0.1595\n",
            "meanRecall= 0.1595\n",
            "meanAccuracy= 0.1595\n",
            "meanMcc= 0.10061515750827707\n",
            "\n",
            "Gaussian Naive Bayes - ZScore Normalization - RKF- Over Sampler\n",
            "meanPrecision= 0.15913888888888889\n",
            "meanRecall= 0.15913888888888889\n",
            "meanAccuracy= 0.15913888888888889\n",
            "meanMcc= 0.10021591217918568\n",
            "\n",
            "Gaussian Naive Bayes - MinMax Normalization - KF- Over Sampler\n",
            "meanPrecision= 0.1595\n",
            "meanRecall= 0.1595\n",
            "meanAccuracy= 0.1595\n",
            "meanMcc= 0.10061515750827707\n",
            "\n",
            "Gaussian Naive Bayes - MinMax Normalization - RKF- Over Sampler\n",
            "meanPrecision= 0.15913888888888889\n",
            "meanRecall= 0.15913888888888889\n",
            "meanAccuracy= 0.15913888888888889\n",
            "meanMcc= 0.10021591217918568\n",
            "\n",
            "Gaussian Naive Bayes - RobustScaler Normalization - KF- Over Sampler\n",
            "meanPrecision= 0.1595\n",
            "meanRecall= 0.1595\n",
            "meanAccuracy= 0.1595\n",
            "meanMcc= 0.10061515750827707\n",
            "\n",
            "Gaussian Naive Bayes - RobustScaler Normalization - RKF- Over Sampler\n",
            "meanPrecision= 0.15913888888888889\n",
            "meanRecall= 0.15913888888888889\n",
            "meanAccuracy= 0.15913888888888889\n",
            "meanMcc= 0.10021591217918568\n"
          ]
        }
      ]
    },
    {
      "cell_type": "code",
      "source": [
        ""
      ],
      "metadata": {
        "id": "Kx3kZZwMfED-"
      },
      "execution_count": 11,
      "outputs": []
    }
  ]
}